{
 "cells": [
  {
   "cell_type": "markdown",
   "metadata": {},
   "source": [
    "## BLM442 Keşif aktivitesi-3: SQLite üzerinde veri analizi"
   ]
  },
  {
   "cell_type": "markdown",
   "metadata": {},
   "source": [
    "#### İsim/Soyisim: Muhammed Emre Kara\n",
    "#### Öğrenci Numarası: 160202094\n",
    "#### E-mail: mailemrek@gmail.com\n",
    "#### Kullanılan dataset adı: FIFA 19 complete player dataset\n",
    "#### Dataset url: https://www.kaggle.com/karangadiya/fifa19"
   ]
  },
  {
   "cell_type": "markdown",
   "metadata": {},
   "source": [
    "#### Problemlerin Çalışması için Aşağıdaki kodu 1 defa çalıştırmanız gerekmektedir."
   ]
  },
  {
   "cell_type": "code",
   "execution_count": 32,
   "metadata": {},
   "outputs": [
    {
     "name": "stdout",
     "output_type": "stream",
     "text": [
      "Successfully Connected to Database\n"
     ]
    }
   ],
   "source": [
    "import sqlite3\n",
    "import pandas as pd\n",
    "class sqlite:\n",
    "    def __init__(self, dbName='buyuk_veri_kesif_3'):\n",
    "        self.dbPath = dbName+'.db'\n",
    "        try:\n",
    "            connection = sqlite3.connect(self.dbPath)\n",
    "            print('Successfully Connected to Database')\n",
    "            connection.close()\n",
    "        except Exception as err:\n",
    "            print('err:', err)\n",
    "    def importCSV(self,file='data.csv',table_name='players'):\n",
    "        df = pd.read_csv(file)\n",
    "        connection = sqlite3.connect(self.dbPath)\n",
    "        df.to_sql(table_name, connection, if_exists='replace', index=False)\n",
    "        connection.close()\n",
    "    def query(self,sql, database='players'):\n",
    "        connection = sqlite3.connect(self.dbPath)\n",
    "        cursor = connection.execute(sql)\n",
    "        for row in cursor:\n",
    "            print(row)\n",
    "        connection.close()\n",
    "\n",
    "obj = kesif3_script.sqlite()\n",
    "obj.importCSV('data.csv')"
   ]
  },
  {
   "cell_type": "markdown",
   "metadata": {},
   "source": [
    "#### Problem 1: Sol ayaklı LF(Sol Açık) VS Sağ Ayaklı LF Value(Oyuncu Değeri) Ortalamalarının Karşılaştırması"
   ]
  },
  {
   "cell_type": "code",
   "execution_count": 16,
   "metadata": {},
   "outputs": [
    {
     "name": "stdout",
     "output_type": "stream",
     "text": [
      "Left  32808333\n",
      "Right 13239583\n"
     ]
    }
   ],
   "source": [
    "p1 = obj.query('SELECT AVG(Number_Value),Preferred_Foot FROM players WHERE Position=\\'LF\\' Group By Preferred_Foot')\n",
    "print(p1[0][1], ' {a:.0f}'.format(a=p1[0][0]))\n",
    "print(p1[1][1], '{a:.0f}'.format(a=p1[1][0]))"
   ]
  },
  {
   "cell_type": "markdown",
   "metadata": {},
   "source": [
    "#### Problem 2: 2.\tWork Rate(Çalışma Oranı) – Wage(Maaş) İlişkisi"
   ]
  },
  {
   "cell_type": "code",
   "execution_count": 17,
   "metadata": {},
   "outputs": [
    {
     "name": "stdout",
     "output_type": "stream",
     "text": [
      "Maaş  Ofansif - Defansif Çalışkanlık\n",
      "21330 High/ High\n",
      "13156 High/ Medium\n",
      "12418 Medium/ High\n",
      "11920 High/ Low\n",
      "9538 Medium/ Low\n",
      "8421 Low/ High\n",
      "7074 Medium/ Medium\n",
      "6715 Low/ Medium\n",
      "5059 Low/ Low\n"
     ]
    }
   ],
   "source": [
    "p2 = obj.query('SELECT AVG(Number_Wage),Work_Rate FROM players Group By Work_Rate ORDER BY AVG(Number_Wage) DESC')\n",
    "print('Maaş',' Ofansif - Defansif Çalışkanlık')\n",
    "for i in p2:\n",
    "    print('{a:.0f}'.format(a=i[0]), i[1])"
   ]
  },
  {
   "cell_type": "markdown",
   "metadata": {},
   "source": [
    "#### Problem 3: Body Type- Real Face kombinasyonları"
   ]
  },
  {
   "cell_type": "code",
   "execution_count": 18,
   "metadata": {},
   "outputs": [
    {
     "name": "stdout",
     "output_type": "stream",
     "text": [
      "No Lean \n",
      "No Normal \n",
      "No Stocky \n",
      "Yes Akinfenwa \n",
      "Yes C. Ronaldo \n",
      "Yes Courtois \n",
      "Yes Lean \n",
      "Yes Messi \n",
      "Yes Neymar \n",
      "Yes Normal \n",
      "Yes PLAYER_BODY_TYPE_25 \n",
      "Yes Shaqiri \n",
      "Yes Stocky \n"
     ]
    }
   ],
   "source": [
    "p3 = obj.query('SELECT Real_Face,Body_Type FROM players Group By Real_Face,Body_Type')\n",
    "for i in p3:\n",
    "    for j in i:\n",
    "        print(j, end=' ')\n",
    "    print()"
   ]
  },
  {
   "cell_type": "markdown",
   "metadata": {},
   "source": [
    "#### Problem 4: En iyi 5 Türk Penaltıcı"
   ]
  },
  {
   "cell_type": "code",
   "execution_count": 31,
   "metadata": {},
   "outputs": [
    {
     "name": "stdout",
     "output_type": "stream",
     "text": [
      "[(85, 'E. Belözoğlu'), (84, 'S. İnan'), (82, 'C. Tosun'), (79, 'B. Yılmaz'), (78, 'O. Özyakup')]\n",
      "85 E. Belözoğlu \n",
      "84 S. İnan \n",
      "82 C. Tosun \n",
      "79 B. Yılmaz \n",
      "78 O. Özyakup \n"
     ]
    }
   ],
   "source": [
    "p4 = obj.query('SELECT Penalties,Name FROM players WHERE Nationality=\\'Turkey\\' ORDER BY Penalties DESC LIMIT 5')\n",
    "for i in p4:\n",
    "    for j in i:\n",
    "        print(j, end=' ')\n",
    "    print()"
   ]
  },
  {
   "cell_type": "markdown",
   "metadata": {},
   "source": [
    "#### Problem 5: Sol ayaklı LF(Sol Açık) VS Sağ Ayaklı LF Value(Oyuncu Değeri) Ortalamalarının Karşılaştırması"
   ]
  },
  {
   "cell_type": "code",
   "execution_count": 20,
   "metadata": {},
   "outputs": [
    {
     "name": "stdout",
     "output_type": "stream",
     "text": [
      "Left  21011667\n",
      "Right 7492500\n"
     ]
    }
   ],
   "source": [
    "p5 = obj.query('SELECT AVG(Number_Value),Preferred_Foot FROM players WHERE Position=\\'RF\\' Group By Preferred_Foot')\n",
    "print(p5[0][1], ' {a:.0f}'.format(a=p5[0][0]))\n",
    "print(p5[1][1], '{a:.0f}'.format(a=p5[1][0]))"
   ]
  },
  {
   "cell_type": "markdown",
   "metadata": {},
   "source": [
    "#### Problem 6: Oyuncu Serbest Kalma ve Oyuncu Değeri ikilisinin en yüksek olduğu 5 oyuncu"
   ]
  },
  {
   "cell_type": "code",
   "execution_count": 21,
   "metadata": {},
   "outputs": [
    {
     "name": "stdout",
     "output_type": "stream",
     "text": [
      "Neymar Jr €228.1M 118500000 \n",
      "L. Messi €226.5M 110500000 \n",
      "K. De Bruyne €196.4M 102000000 \n",
      "E. Hazard €172.1M 93000000 \n",
      "K. Mbappé €166.1M 81000000 \n"
     ]
    }
   ],
   "source": [
    "p6 = obj.query('SELECT Name,Release_Clause,Number_Value from players Where Number_Release_Clause>0 Order By Number_Release_Clause DESC,Number_Value DESC LIMIT 5')\n",
    "for i in p6:\n",
    "    for j in i:\n",
    "        print(j, end=' ')\n",
    "    print()"
   ]
  },
  {
   "cell_type": "markdown",
   "metadata": {},
   "source": [
    "#### Problem 7: 7.\tKendi Body Type’ına Sahip Özel Oyuncular"
   ]
  },
  {
   "cell_type": "code",
   "execution_count": 22,
   "metadata": {},
   "outputs": [
    {
     "name": "stdout",
     "output_type": "stream",
     "text": [
      "A. Akinfenwa 1 \n",
      "Cristiano Ronaldo 1 \n",
      "T. Courtois 1 \n",
      "L. Messi 1 \n",
      "Neymar Jr 1 \n",
      "M. Salah 1 \n",
      "X. Shaqiri 1 \n"
     ]
    }
   ],
   "source": [
    "p7 = obj.query('SELECT Name,Count(*) from players Group By Body_Type Having COUNT(*) < 2')\n",
    "for i in p7:\n",
    "    for j in i:\n",
    "        print(j, end=' ')\n",
    "    print()"
   ]
  },
  {
   "cell_type": "markdown",
   "metadata": {},
   "source": [
    "#### Problem 8: En fazla Oyuncuya sahip 10 ülke"
   ]
  },
  {
   "cell_type": "code",
   "execution_count": 23,
   "metadata": {},
   "outputs": [
    {
     "name": "stdout",
     "output_type": "stream",
     "text": [
      "England 1657 \n",
      "Germany 1195 \n",
      "Spain 1071 \n",
      "Argentina 936 \n",
      "France 911 \n",
      "Brazil 825 \n",
      "Italy 699 \n",
      "Colombia 616 \n",
      "Japan 478 \n",
      "Netherlands 452 \n"
     ]
    }
   ],
   "source": [
    "p8 = obj.query('SELECT Nationality,Count(*) from players Group By Nationality Order By Count(*) DESC LIMIT 10')\n",
    "for i in p8:\n",
    "    for j in i:\n",
    "        print(j, end=' ')\n",
    "    print()"
   ]
  },
  {
   "cell_type": "markdown",
   "metadata": {},
   "source": [
    "#### Problem 9: Aynı Ad,Pozisyon,Vatandaşlık, ve Yaşa sahip çon Benzer Oyuncular"
   ]
  },
  {
   "cell_type": "code",
   "execution_count": 24,
   "metadata": {},
   "outputs": [
    {
     "name": "stdout",
     "output_type": "stream",
     "text": [
      "A. Miranchuk CAM Russia 22 \n",
      "J. Rodríguez GK Mexico 25 \n",
      "J. Sambenito ST Paraguay 26 \n",
      "Jairo LM Spain 24 \n",
      "Juan Carlos GK Spain 30 \n",
      "K. Müller GK Germany 27 \n",
      "M. Dembélé ST France 21 \n",
      "M. Olsson LB Sweden 30 \n",
      "N. Baumann GK Switzerland 22 \n",
      "S. Gustafson RCM Sweden 23 \n",
      "Álvaro ST Spain 27 \n"
     ]
    }
   ],
   "source": [
    "p9 = obj.query('SELECT Name,Position,Nationality,Age from players Group By Name,Position,Nationality,Age HAVING COUNT(*)>1')\n",
    "for i in p9:\n",
    "    for j in i:\n",
    "        print(j, end=' ')\n",
    "    print()"
   ]
  },
  {
   "cell_type": "markdown",
   "metadata": {},
   "source": [
    "#### Problem 10: En Bitirici Sol Ayağa sahip 5  Oyuncu"
   ]
  },
  {
   "cell_type": "code",
   "execution_count": 25,
   "metadata": {},
   "outputs": [
    {
     "name": "stdout",
     "output_type": "stream",
     "text": [
      "L. Messi 95 \n",
      "A. Griezmann 90 \n",
      "M. Salah 90 \n",
      "Iago Aspas 88 \n",
      "A. Milik 88 \n"
     ]
    }
   ],
   "source": [
    "p10 = obj.query('SELECT Name,Finishing from players WHERE Preferred_Foot=\\'Left\\' ORDER BY Finishing DESC LIMIT 5')\n",
    "for i in p10:\n",
    "    for j in i:\n",
    "        print(j, end=' ')\n",
    "    print()"
   ]
  },
  {
   "cell_type": "markdown",
   "metadata": {},
   "source": [
    "#### Problem 11: En hızlı reflekslere sahip 3 kaleci"
   ]
  },
  {
   "cell_type": "code",
   "execution_count": 26,
   "metadata": {},
   "outputs": [
    {
     "name": "stdout",
     "output_type": "stream",
     "text": [
      "De Gea 94 \n",
      "H. Lloris 92 \n",
      "M. ter Stegen 90 \n"
     ]
    }
   ],
   "source": [
    "p11 = obj.query('SELECT Name,GKReflexes from players ORDER BY GKReflexes DESC LIMIT 3')\n",
    "for i in p11:\n",
    "    for j in i:\n",
    "        print(j, end=' ')\n",
    "    print()"
   ]
  },
  {
   "cell_type": "markdown",
   "metadata": {},
   "source": [
    "#### Problem 12: En iyi 3 santrofor"
   ]
  },
  {
   "cell_type": "code",
   "execution_count": 27,
   "metadata": {},
   "outputs": [
    {
     "name": "stdout",
     "output_type": "stream",
     "text": [
      "Cristiano Ronaldo 94 \n",
      "R. Lewandowski 90 \n",
      "H. Kane 89 \n"
     ]
    }
   ],
   "source": [
    "p12 = obj.query('SELECT Name,Overall from players WHERE position=\\'ST\\' ORDER BY Overall DESC LIMIT 3')\n",
    "for i in p12:\n",
    "    for j in i:\n",
    "        print(j, end=' ')\n",
    "    print()"
   ]
  },
  {
   "cell_type": "markdown",
   "metadata": {},
   "source": [
    "#### Problem 13: 16-19 yaş arasındaki Potential-Overall değeri 0’dan yüksek(Yani Gelişmeye açık) Serbest Kalma ücreti – Pazar Değeri en düşük 72 Overall Üstü 5 Altın Genç Santrofor "
   ]
  },
  {
   "cell_type": "code",
   "execution_count": 28,
   "metadata": {},
   "outputs": [
    {
     "name": "stdout",
     "output_type": "stream",
     "text": [
      "M. Langerak 73 GK \n",
      "A. Hansen 73 GK \n",
      "S. Grytebust 74 GK \n",
      "Cho Hyun Woo 74 GK \n",
      "K. Lamprou 73 GK \n"
     ]
    }
   ],
   "source": [
    "p13 = obj.query('SELECT Name,Overall,Position  from players WHERE Overall<Potential AND Number_Release_Clause>0 AND Overall>72 AND Position=\\'GK\\' ORDER BY (Number_Release_Clause-Number_Value) ASC LIMIT 5')\n",
    "for i in p13:\n",
    "    for j in i:\n",
    "        print(j, end=' ')\n",
    "    print()"
   ]
  },
  {
   "cell_type": "markdown",
   "metadata": {},
   "source": [
    "#### Problem 14: 16-19 yaş arasındaki Potential-Overall değeri 0’dan yüksek(Yani Gelişmeye açık) Serbest Kalma ücreti – Pazar Değeri en düşük 72 Overall Üstü 5 Altın Genç Kaleci "
   ]
  },
  {
   "cell_type": "code",
   "execution_count": 29,
   "metadata": {},
   "outputs": [
    {
     "name": "stdout",
     "output_type": "stream",
     "text": [
      "Serginho 73 ST \n",
      "R. Emond 73 ST \n",
      "G. Zardes 73 ST \n",
      "K. Rezaei 73 ST \n",
      "L. Fernández 74 ST \n"
     ]
    }
   ],
   "source": [
    "p14 = obj.query('SELECT Name,Overall,Position  from players WHERE Overall<Potential AND Number_Release_Clause>0 AND Overall>72 AND Position=\\'ST\\' ORDER BY (Number_Release_Clause-Number_Value) ASC LIMIT 5')\n",
    "for i in p14:\n",
    "    for j in i:\n",
    "        print(j, end=' ')\n",
    "    print()"
   ]
  },
  {
   "cell_type": "markdown",
   "metadata": {},
   "source": [
    "#### Problem 15: Her iki Ayağını iyi kullanan 25 Yaş ve 80 Overall üstü En ucuz 5 Ofansif Ortasaha"
   ]
  },
  {
   "cell_type": "code",
   "execution_count": 30,
   "metadata": {},
   "outputs": [
    {
     "name": "stdout",
     "output_type": "stream",
     "text": [
      "Laure Santeiro 81 17000000 \n",
      "G. Sigurðsson 82 22500000 \n",
      "C. Eriksen 88 73500000 \n"
     ]
    }
   ],
   "source": [
    "p15 = obj.query('SELECT Name,Overall,Number_Value  from players WHERE Overall>80 AND Weak_Foot=5 AND Age>25 AND Position=\\'CAM\\' ORDER BY Number_Value ASC LIMIT 5')\n",
    "for i in p15:\n",
    "    for j in i:\n",
    "        print(j, end=' ')\n",
    "    print()"
   ]
  }
 ],
 "metadata": {
  "kernelspec": {
   "display_name": "Python 3",
   "language": "python",
   "name": "python3"
  },
  "language_info": {
   "codemirror_mode": {
    "name": "ipython",
    "version": 3
   },
   "file_extension": ".py",
   "mimetype": "text/x-python",
   "name": "python",
   "nbconvert_exporter": "python",
   "pygments_lexer": "ipython3",
   "version": "3.7.3"
  }
 },
 "nbformat": 4,
 "nbformat_minor": 2
}
